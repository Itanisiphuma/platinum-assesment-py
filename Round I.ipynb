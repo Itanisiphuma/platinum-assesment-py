{
 "cells": [
  {
   "cell_type": "code",
   "execution_count": 1,
   "id": "34065e5f",
   "metadata": {},
   "outputs": [],
   "source": [
    "from random import random\n",
    "from datetime import datetime, timedelta"
   ]
  },
  {
   "cell_type": "code",
   "execution_count": 2,
   "id": "5b3902b5",
   "metadata": {},
   "outputs": [],
   "source": [
    "def is_date_format_correct(date:str)->bool:\n",
    "    \n",
    "    try:\n",
    "        if datetime.strptime(date, '%Y-%m-%d'):\n",
    "            \n",
    "            return True\n",
    "\n",
    "    \n",
    "    except ValueError:\n",
    "    \n",
    "        return False"
   ]
  },
  {
   "cell_type": "code",
   "execution_count": 3,
   "id": "b1a9e442",
   "metadata": {},
   "outputs": [
    {
     "data": {
      "text/plain": [
       "False"
      ]
     },
     "execution_count": 3,
     "metadata": {},
     "output_type": "execute_result"
    }
   ],
   "source": [
    "is_date_format_correct('2017/12/31')"
   ]
  },
  {
   "cell_type": "code",
   "execution_count": 4,
   "id": "eb4b3429",
   "metadata": {},
   "outputs": [
    {
     "data": {
      "text/plain": [
       "True"
      ]
     },
     "execution_count": 4,
     "metadata": {},
     "output_type": "execute_result"
    }
   ],
   "source": [
    "is_date_format_correct('2017-12-31')"
   ]
  },
  {
   "cell_type": "code",
   "execution_count": 5,
   "id": "9407ddca",
   "metadata": {},
   "outputs": [
    {
     "data": {
      "text/plain": [
       "False"
      ]
     },
     "execution_count": 5,
     "metadata": {},
     "output_type": "execute_result"
    }
   ],
   "source": [
    "is_date_format_correct('20171231')"
   ]
  },
  {
   "cell_type": "code",
   "execution_count": 6,
   "id": "f63fb6e6",
   "metadata": {},
   "outputs": [
    {
     "name": "stdout",
     "output_type": "stream",
     "text": [
      "1,2,3,4,5,7,8,9,10,"
     ]
    }
   ],
   "source": [
    "for i in range(1,11):\n",
    "    \n",
    "    if i == 6:\n",
    "        continue\n",
    "    else:\n",
    "        print(i,end=',')"
   ]
  },
  {
   "cell_type": "code",
   "execution_count": 7,
   "id": "11c848a9",
   "metadata": {},
   "outputs": [],
   "source": [
    "def compute_prev_date(dates_list:list):\n",
    "    \n",
    "    dates = []\n",
    "    \n",
    "    for date in dates_list:\n",
    "        \n",
    "        date = datetime.strptime(date, '%Y-%m-%d')\n",
    "        \n",
    "        if date:\n",
    "            \n",
    "            yesterday = date - timedelta(1)\n",
    "            \n",
    "            dates.append(datetime.strftime(yesterday, '%d %b %Y'))\n",
    "    \n",
    "    return dates\n"
   ]
  },
  {
   "cell_type": "code",
   "execution_count": 8,
   "id": "2f0926e7",
   "metadata": {},
   "outputs": [
    {
     "data": {
      "text/plain": [
       "['20 Jan 1999', '29 Dec 2022', '20 Dec 2099']"
      ]
     },
     "execution_count": 8,
     "metadata": {},
     "output_type": "execute_result"
    }
   ],
   "source": [
    "compute_prev_date(['1999-01-21', '2022-12-30', '2099-12-21'])"
   ]
  },
  {
   "cell_type": "code",
   "execution_count": 9,
   "id": "f80f40b5",
   "metadata": {},
   "outputs": [
    {
     "data": {
      "text/plain": [
       "['20 Jan 1999']"
      ]
     },
     "execution_count": 9,
     "metadata": {},
     "output_type": "execute_result"
    }
   ],
   "source": [
    "compute_prev_date(['1999-01-21'])"
   ]
  },
  {
   "cell_type": "code",
   "execution_count": 10,
   "id": "32e016e6",
   "metadata": {},
   "outputs": [
    {
     "data": {
      "text/plain": [
       "['31 Oct 2022', '01 Nov 2022']"
      ]
     },
     "execution_count": 10,
     "metadata": {},
     "output_type": "execute_result"
    }
   ],
   "source": [
    "compute_prev_date(['2022-11-01', '2022-11-02'])"
   ]
  },
  {
   "cell_type": "code",
   "execution_count": 11,
   "id": "44fff48f",
   "metadata": {},
   "outputs": [],
   "source": [
    "class TestMath(object):\n",
    "    \n",
    "    def __init__(self,x,y):\n",
    "        \n",
    "        self.x = x\n",
    "        self.y = y\n",
    "\n",
    "    def test_add(self):\n",
    "        return self.x + self.y\n",
    "\n",
    "    def test_subtract(self):\n",
    "        return self.x - self.y\n",
    "\n",
    "    def test_multiply(self):\n",
    "        return self.x * self.y"
   ]
  },
  {
   "cell_type": "code",
   "execution_count": 12,
   "id": "034741a9",
   "metadata": {},
   "outputs": [],
   "source": [
    "obj = TestMath(10,10)"
   ]
  },
  {
   "cell_type": "code",
   "execution_count": 13,
   "id": "dad9aff3",
   "metadata": {},
   "outputs": [
    {
     "data": {
      "text/plain": [
       "20"
      ]
     },
     "execution_count": 13,
     "metadata": {},
     "output_type": "execute_result"
    }
   ],
   "source": [
    "obj.test_add()"
   ]
  },
  {
   "cell_type": "code",
   "execution_count": 14,
   "id": "a8bd3230",
   "metadata": {},
   "outputs": [
    {
     "data": {
      "text/plain": [
       "0"
      ]
     },
     "execution_count": 14,
     "metadata": {},
     "output_type": "execute_result"
    }
   ],
   "source": [
    "obj.test_subtract()"
   ]
  },
  {
   "cell_type": "code",
   "execution_count": 15,
   "id": "9ce082b9",
   "metadata": {},
   "outputs": [
    {
     "data": {
      "text/plain": [
       "100"
      ]
     },
     "execution_count": 15,
     "metadata": {},
     "output_type": "execute_result"
    }
   ],
   "source": [
    "obj.test_multiply()"
   ]
  },
  {
   "cell_type": "code",
   "execution_count": 16,
   "id": "6eb8ebde",
   "metadata": {},
   "outputs": [],
   "source": [
    "def main():\n",
    "    \n",
    "    qty = None\n",
    "    \n",
    "    cost = None\n",
    "    \n",
    "    def fetch_quantity():\n",
    "        \n",
    "        quantity = random()\n",
    "        \n",
    "        if quantity < 0:\n",
    "            \n",
    "            raise ValueError('quantity should be  a non-negative integer')\n",
    "        \n",
    "        return quantity\n",
    "    \n",
    "    def fetch_cost():\n",
    "        \n",
    "        try:\n",
    "            \n",
    "            cost = random()\n",
    "        \n",
    "        except:\n",
    "            \n",
    "            return None\n",
    "        \n",
    "        return cost\n",
    "    \n",
    "    def compute_cost_per_quantity():\n",
    "        \n",
    "        try:\n",
    "            qty = fetch_quantity()\n",
    "            cost = fetch_cost()\n",
    "            cost_per_quantity = cost/qty\n",
    "        \n",
    "        except ZeroDivisionError as e:\n",
    "                raise\n",
    "   \n",
    "        return cost_per_quantity\n",
    "    \n",
    "    cost_per_quantity = compute_cost_per_quantity()\n",
    "    a = 1 + 2 + cost_per_quantity\n",
    "    b = 4 + 5\n",
    "    print(a+b)"
   ]
  },
  {
   "cell_type": "code",
   "execution_count": 17,
   "id": "388501fb",
   "metadata": {},
   "outputs": [
    {
     "name": "stdout",
     "output_type": "stream",
     "text": [
      "27.94709301989583\n"
     ]
    }
   ],
   "source": [
    "main()"
   ]
  }
 ],
 "metadata": {
  "kernelspec": {
   "display_name": "Python 3 (ipykernel)",
   "language": "python",
   "name": "python3"
  },
  "language_info": {
   "codemirror_mode": {
    "name": "ipython",
    "version": 3
   },
   "file_extension": ".py",
   "mimetype": "text/x-python",
   "name": "python",
   "nbconvert_exporter": "python",
   "pygments_lexer": "ipython3",
   "version": "3.9.13"
  }
 },
 "nbformat": 4,
 "nbformat_minor": 5
}
